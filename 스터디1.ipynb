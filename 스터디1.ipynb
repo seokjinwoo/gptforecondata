{
  "nbformat": 4,
  "nbformat_minor": 0,
  "metadata": {
    "colab": {
      "provenance": [],
      "authorship_tag": "ABX9TyNzC/ry7fdBZV7K2A3na/Mt",
      "include_colab_link": true
    },
    "kernelspec": {
      "name": "python3",
      "display_name": "Python 3"
    },
    "language_info": {
      "name": "python"
    }
  },
  "cells": [
    {
      "cell_type": "markdown",
      "metadata": {
        "id": "view-in-github",
        "colab_type": "text"
      },
      "source": [
        "<a href=\"https://colab.research.google.com/github/seokjinwoo/gptforecondata/blob/main/%EC%8A%A4%ED%84%B0%EB%94%941.ipynb\" target=\"_parent\"><img src=\"https://colab.research.google.com/assets/colab-badge.svg\" alt=\"Open In Colab\"/></a>"
      ]
    },
    {
      "cell_type": "markdown",
      "source": [
        "# 챗지피티를 사용하여 경제경영데이터 분석\n",
        "\n",
        "- colab 을 IDE 로 사용할 것\n",
        "- github에 공유하는 것을 목적으로 하고\n",
        "- notion 도 좋음\n",
        "\n",
        "\n",
        "\n",
        "---\n",
        "\n",
        "\n",
        "## 스터디 발표 형식\n",
        "\n",
        "- 주제:\n",
        "- 프롬프터\n",
        "- 코드\n",
        "- 시현\n",
        "\n",
        "\n",
        "---\n",
        "\n",
        "\n",
        "\n"
      ],
      "metadata": {
        "id": "8BK1cygRLgq9"
      }
    },
    {
      "cell_type": "code",
      "source": [
        "# 구글 드라이브 마운트\n",
        "from google.colab import drive\n",
        "drive.mount('/content/drive')"
      ],
      "metadata": {
        "colab": {
          "base_uri": "https://localhost:8080/"
        },
        "id": "o-JuyT6VLmoL",
        "outputId": "8753da7c-ce30-44be-c9ea-7bc06b492ec4"
      },
      "execution_count": null,
      "outputs": [
        {
          "output_type": "stream",
          "name": "stdout",
          "text": [
            "Mounted at /content/drive\n"
          ]
        }
      ]
    }
  ]
}